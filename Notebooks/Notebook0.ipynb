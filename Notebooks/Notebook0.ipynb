{
 "cells": [
  {
   "cell_type": "markdown",
   "metadata": {
    "heading_collapsed": true
   },
   "source": [
    "# Working with MDCS via Notebook."
   ]
  },
  {
   "cell_type": "markdown",
   "metadata": {},
   "source": [
    "# Set the path to MDCS core files (i.e. MDCS.py, etc.) so that the required imports can work."
   ]
  },
  {
   "cell_type": "code",
   "execution_count": 79,
   "metadata": {},
   "outputs": [],
   "source": [
    "import sys\n",
    "sys.path.append(r'../scripts')"
   ]
  },
  {
   "cell_type": "code",
   "execution_count": 80,
   "metadata": {},
   "outputs": [],
   "source": [
    "from MDCS import NBAccess\n"
   ]
  },
  {
   "cell_type": "markdown",
   "metadata": {},
   "source": [
    "# Create an instance of MDCS.NBAccess class to interface with MDCS."
   ]
  },
  {
   "cell_type": "code",
   "execution_count": 81,
   "metadata": {},
   "outputs": [],
   "source": [
    "nb = NBAccess()"
   ]
  },
  {
   "cell_type": "markdown",
   "metadata": {},
   "source": [
    "# nb.init(prj_folder, session=True) takes in 2 args, prj_folder to store the output  if any and the boolean session value to create a unique session based subfolder within the prj_folder. This helps to further isolate the output to facilitate multiple test scenarios. If the prj_folder is omitted however, the default location is the folder named 'output' located one level up from where the MDCS core files are located. e.g. nb.init('c:/path/to/data/output'). "
   ]
  },
  {
   "cell_type": "code",
   "execution_count": 82,
   "metadata": {},
   "outputs": [
    {
     "data": {
      "text/plain": [
       "True"
      ]
     },
     "execution_count": 82,
     "metadata": {},
     "output_type": "execute_result"
    }
   ],
   "source": [
    "nb.init()"
   ]
  },
  {
   "cell_type": "markdown",
   "metadata": {},
   "source": [
    "# add_job using a unique user defined job_id followed by the standard MDCS args flags assigned with the user values. Any additional custom args can be passed naming the arg prefixed with '__', for e.g. __custom_value = \"custom\". The use of any custom args if any would depend on the logic the custom functions assigned by (c = ?) have on them. Please note, the implementation of the custom functions are in the MDCS_UC source file. "
   ]
  },
  {
   "cell_type": "code",
   "execution_count": 83,
   "metadata": {},
   "outputs": [
    {
     "data": {
      "text/plain": [
       "True"
      ]
     },
     "execution_count": 83,
     "metadata": {},
     "output_type": "execute_result"
    }
   ],
   "source": [
    "nb.add_job('workflow1', c = 'hello1', p = [\"7$pixelvalue\"], __custom_value = \"custom\")"
   ]
  },
  {
   "cell_type": "markdown",
   "metadata": {},
   "source": [
    "# For the following job named 'workflow2',  the custom arg __pixelval gets its value assigned using the pixelvalue that was an input to the previous workflow identified by its unique job_id 'workflow1'. Similarly, the custom arg __hello1 gets its value from the output of the function named 'hello1' in the same job. The addressing syntax to fetch values from the previous worflows is '@job_id/i|o/flag/cmd|arg name'."
   ]
  },
  {
   "cell_type": "code",
   "execution_count": 84,
   "metadata": {},
   "outputs": [
    {
     "data": {
      "text/plain": [
       "True"
      ]
     },
     "execution_count": 84,
     "metadata": {},
     "output_type": "execute_result"
    }
   ],
   "source": [
    "nb.add_job('workflow2', c = 'hello2', __pixelval = \"@workflow1/i/p/pixelvalue\", __hello1=\"@workflow1/o/hello1\")"
   ]
  },
  {
   "cell_type": "code",
   "execution_count": 85,
   "metadata": {},
   "outputs": [
    {
     "data": {
      "text/plain": [
       "True"
      ]
     },
     "execution_count": 85,
     "metadata": {},
     "output_type": "execute_result"
    }
   ],
   "source": [
    "nb.add_job('workflow3', c = 'hello3+hello_cnt', __hello2 = \"@workflow2/o/hello2\")"
   ]
  },
  {
   "cell_type": "markdown",
   "metadata": {},
   "source": [
    "# Executing nb.add_job multiple times with the same job_id will not add any additional jobs, instead the values of the last args used will replace the existing values for the same job_id if found. For e.g. the value for the c = ? can be adjusted to test only a section of the workflow for debugging purpose starting off initially with just c = 'hello1' and adding the following commands one at a time until the whole w/f is tested. Caveat, if any changes to the MDCS core is done, it's possibe the Notebook may not reflect those changes until the Notebook gets restarted, this means testing/manipulating of c = ? args can only be done once all the changes have been completed in the core files. "
   ]
  },
  {
   "cell_type": "markdown",
   "metadata": {},
   "source": [
    "# Run all the jobs, each job can be thought as a separate workflow. In this case, the 'workfows' jobs jobs are all identified by their unique job_ids and will run in the order they've been added into MDCS using the function add_job."
   ]
  },
  {
   "cell_type": "code",
   "execution_count": 86,
   "metadata": {
    "scrolled": false
   },
   "outputs": [
    {
     "name": "stdout",
     "output_type": "stream",
     "text": [
      "log-msg:Checking for updates..\n",
      "log-msg:Installed version is the latest version\n",
      "log-msg:Input arguments c:\\Image_Mgmt_Workflows\\GitForWindows\\mdcs-py\\Notebooks\\../scripts\\MDCS.py||-j:{\"job\": {\"id\": \"no_id\", \"type\": \"MDCS\", \"params\": {\"output\": {\"enabled\": \"true\", \"path\": \"mdcs/c232f66fe86547d6a868d1c97a9e3c89\"}, \"build\": {\"steps\": [{\"type\": \"MDCS\", \"id\": \"workflow1\", \"enabled\": 1, \"args\": {\"c\": \"hello1\", \"p\": [\"7$pixelvalue\"], \"__custom_value\": \"custom\"}, \"threads\": false}, {\"type\": \"MDCS\", \"id\": \"workflow2\", \"enabled\": 1, \"args\": {\"c\": \"hello2\", \"__pixelval\": \"@workflow1/i/p/pixelvalue\", \"__hello1\": \"@workflow1/o/hello1\"}, \"threads\": false}, {\"type\": \"MDCS\", \"id\": \"workflow3\", \"enabled\": 1, \"args\": {\"c\": \"hello3+hello_cnt\", \"__hello2\": \"@workflow2/o/hello2\"}, \"threads\": false}]}}}}\n",
      "Invoking MDCS..\n",
      "** loading arcpy ***\n",
      "log-msg:Checking for updates..\n",
      "log-msg:Installed version is the latest version\n",
      "log-msg:Input arguments -c:hello1||-p:7$pixelvalue||-__custom_value:custom||-__wp__:c:\\Image_Mgmt_Workflows\\GitForWindows\\mdcs-py||-__step__:workflow1||-__job__:no_id||-b:c:\\Image_Mgmt_Workflows\\GitForWindows\\mdcs-py\\Notebooks\\../scripts\\Base||-l:c:\\Image_Mgmt_Workflows\\GitForWindows\\mdcs-py\\logs/\n",
      "log-msg:Processing command(s):HELLO1\n",
      "log-msg:Command:hello11->User defined command (hello1)\n",
      "log-msg:Using parameter values at index (1)\n",
      "hello1\n",
      "log-msg:this is a log message\n",
      "***hello1 0\n",
      "log-status:OK\n",
      "log-msg:Done...\n",
      "Invoking MDCS..\n",
      "** loading arcpy ***\n",
      "log-msg:Checking for updates..\n",
      "log-msg:Installed version is the latest version\n",
      "log-msg:Input arguments -c:hello2||-__pixelval:7||-__hello1:0||-__wp__:c:\\Image_Mgmt_Workflows\\GitForWindows\\mdcs-py||-__step__:workflow2||-__job__:no_id||-b:c:\\Image_Mgmt_Workflows\\GitForWindows\\mdcs-py\\Notebooks\\../scripts\\Base||-l:c:\\Image_Mgmt_Workflows\\GitForWindows\\mdcs-py\\logs/\n",
      "log-msg:Processing command(s):HELLO2\n",
      "log-msg:Command:hello22->User defined command (hello2)\n",
      "log-msg:Using parameter values at index (2)\n",
      "***hello2 1 7\n",
      "log-status:OK\n",
      "log-msg:Done...\n",
      "Invoking MDCS..\n",
      "** loading arcpy ***\n",
      "log-msg:Checking for updates..\n",
      "log-msg:Installed version is the latest version\n",
      "log-msg:Input arguments -c:hello3+hello_cnt||-__hello2:1||-__wp__:c:\\Image_Mgmt_Workflows\\GitForWindows\\mdcs-py||-__step__:workflow3||-__job__:no_id||-b:c:\\Image_Mgmt_Workflows\\GitForWindows\\mdcs-py\\Notebooks\\../scripts\\Base||-l:c:\\Image_Mgmt_Workflows\\GitForWindows\\mdcs-py\\logs/\n",
      "log-msg:Processing command(s):HELLO3+HELLO_CNT\n",
      "log-msg:Command:hello33->User defined command (hello3)\n",
      "log-msg:Using parameter values at index (3)\n",
      "***hello3 2\n",
      "log-status:OK\n",
      "log-msg:Command:hello_cnt->User defined command (hello_cnt)\n",
      "***hello_cnt\n",
      "log-status:OK\n",
      "log-msg:Done...\n",
      "log-msg:Done...\n"
     ]
    },
    {
     "data": {
      "text/plain": [
       "[{'workflow1': [{'cmd': 'hello1', 'output': 0, 'value': True}]},\n",
       " {'workflow2': [{'cmd': 'hello2', 'output': 1, 'value': True}]},\n",
       " {'workflow3': [{'cmd': 'hello3', 'value': True},\n",
       "   {'cmd': 'hello_cnt', 'value': True}]}]"
      ]
     },
     "execution_count": 86,
     "metadata": {},
     "output_type": "execute_result"
    }
   ],
   "source": [
    "nb.run()"
   ]
  },
  {
   "cell_type": "markdown",
   "metadata": {},
   "source": [
    "# Check for the status of the command 'hello1'"
   ]
  },
  {
   "cell_type": "code",
   "execution_count": 87,
   "metadata": {},
   "outputs": [
    {
     "data": {
      "text/plain": [
       "True"
      ]
     },
     "execution_count": 87,
     "metadata": {},
     "output_type": "execute_result"
    }
   ],
   "source": [
    "nb.get_status('workflow1', 'hello1')"
   ]
  },
  {
   "cell_type": "markdown",
   "metadata": {},
   "source": [
    "# Check the output for the command 'hello1' for the job_id 'workflow1'"
   ]
  },
  {
   "cell_type": "code",
   "execution_count": 88,
   "metadata": {},
   "outputs": [
    {
     "data": {
      "text/plain": [
       "1"
      ]
     },
     "execution_count": 88,
     "metadata": {},
     "output_type": "execute_result"
    }
   ],
   "source": [
    "nb.get_output('workflow2', 'hello2')"
   ]
  },
  {
   "cell_type": "markdown",
   "metadata": {},
   "source": [
    "# Check for the collective results of the job_id (workflow3) below."
   ]
  },
  {
   "cell_type": "code",
   "execution_count": 89,
   "metadata": {},
   "outputs": [
    {
     "data": {
      "text/plain": [
       "True"
      ]
     },
     "execution_count": 89,
     "metadata": {},
     "output_type": "execute_result"
    }
   ],
   "source": [
    "nb.get_status('workflow3')"
   ]
  }
 ],
 "metadata": {
  "kernelspec": {
   "display_name": "Python 3 (ipykernel)",
   "language": "python",
   "name": "python3"
  },
  "language_info": {
   "codemirror_mode": {
    "name": "ipython",
    "version": 3
   },
   "file_extension": ".py",
   "mimetype": "text/x-python",
   "name": "python",
   "nbconvert_exporter": "python",
   "pygments_lexer": "ipython3",
   "version": "3.9.16"
  }
 },
 "nbformat": 4,
 "nbformat_minor": 2
}
